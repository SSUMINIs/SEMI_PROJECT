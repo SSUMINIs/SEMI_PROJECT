{
 "cells": [
  {
   "cell_type": "code",
   "execution_count": 5,
   "id": "d2991f03-4504-49bf-8aa3-5d5d7bc50782",
   "metadata": {},
   "outputs": [
    {
     "data": {
      "text/html": [
       "<div>\n",
       "<style scoped>\n",
       "    .dataframe tbody tr th:only-of-type {\n",
       "        vertical-align: middle;\n",
       "    }\n",
       "\n",
       "    .dataframe tbody tr th {\n",
       "        vertical-align: top;\n",
       "    }\n",
       "\n",
       "    .dataframe thead th {\n",
       "        text-align: right;\n",
       "    }\n",
       "</style>\n",
       "<table border=\"1\" class=\"dataframe\">\n",
       "  <thead>\n",
       "    <tr style=\"text-align: right;\">\n",
       "      <th></th>\n",
       "      <th>EMD_CD</th>\n",
       "      <th>EMD_ENG_NM</th>\n",
       "      <th>EMD_KOR_NM</th>\n",
       "      <th>geometry</th>\n",
       "    </tr>\n",
       "  </thead>\n",
       "  <tbody>\n",
       "    <tr>\n",
       "      <th>0</th>\n",
       "      <td>46170101</td>\n",
       "      <td>Togye-dong</td>\n",
       "      <td>토계동</td>\n",
       "      <td>MULTIPOLYGON (((929419.84775 1670007.32899, 92...</td>\n",
       "    </tr>\n",
       "    <tr>\n",
       "      <th>1</th>\n",
       "      <td>46170102</td>\n",
       "      <td>Songwol-dong</td>\n",
       "      <td>송월동</td>\n",
       "      <td>MULTIPOLYGON (((928537.09161 1670526.74533, 92...</td>\n",
       "    </tr>\n",
       "    <tr>\n",
       "      <th>2</th>\n",
       "      <td>46170103</td>\n",
       "      <td>Anchang-dong</td>\n",
       "      <td>안창동</td>\n",
       "      <td>MULTIPOLYGON (((927717.01473 1670073.94114, 92...</td>\n",
       "    </tr>\n",
       "    <tr>\n",
       "      <th>3</th>\n",
       "      <td>46170104</td>\n",
       "      <td>Samyeong-dong</td>\n",
       "      <td>삼영동</td>\n",
       "      <td>MULTIPOLYGON (((928475.32472 1668339.63117, 92...</td>\n",
       "    </tr>\n",
       "    <tr>\n",
       "      <th>4</th>\n",
       "      <td>46170105</td>\n",
       "      <td>Gyo-dong</td>\n",
       "      <td>교동</td>\n",
       "      <td>MULTIPOLYGON (((928199.98296 1671393.45232, 92...</td>\n",
       "    </tr>\n",
       "  </tbody>\n",
       "</table>\n",
       "</div>"
      ],
      "text/plain": [
       "     EMD_CD     EMD_ENG_NM EMD_KOR_NM  \\\n",
       "0  46170101     Togye-dong        토계동   \n",
       "1  46170102   Songwol-dong        송월동   \n",
       "2  46170103   Anchang-dong        안창동   \n",
       "3  46170104  Samyeong-dong        삼영동   \n",
       "4  46170105       Gyo-dong         교동   \n",
       "\n",
       "                                            geometry  \n",
       "0  MULTIPOLYGON (((929419.84775 1670007.32899, 92...  \n",
       "1  MULTIPOLYGON (((928537.09161 1670526.74533, 92...  \n",
       "2  MULTIPOLYGON (((927717.01473 1670073.94114, 92...  \n",
       "3  MULTIPOLYGON (((928475.32472 1668339.63117, 92...  \n",
       "4  MULTIPOLYGON (((928199.98296 1671393.45232, 92...  "
      ]
     },
     "execution_count": 5,
     "metadata": {},
     "output_type": "execute_result"
    }
   ],
   "source": [
    "import geopandas as gpd\n",
    "na_gpd = gpd.read_file(\"naju.geojson\")\n",
    "na_gpd.head()"
   ]
  }
 ],
 "metadata": {
  "kernelspec": {
   "display_name": "Python 3 (ipykernel)",
   "language": "python",
   "name": "python3"
  },
  "language_info": {
   "codemirror_mode": {
    "name": "ipython",
    "version": 3
   },
   "file_extension": ".py",
   "mimetype": "text/x-python",
   "name": "python",
   "nbconvert_exporter": "python",
   "pygments_lexer": "ipython3",
   "version": "3.11.5"
  }
 },
 "nbformat": 4,
 "nbformat_minor": 5
}
